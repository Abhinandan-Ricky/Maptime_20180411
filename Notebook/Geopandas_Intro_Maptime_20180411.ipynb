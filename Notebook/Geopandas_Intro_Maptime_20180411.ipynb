{
 "cells": [
  {
   "cell_type": "markdown",
   "metadata": {},
   "source": [
    "Note: many sources were used for putting this Notebook together, often code and comments are included as-is from the original source. Sources are provided ahead of the content that was taken from them. Thank you to the creators of the many wonderful Geopandas resources already in existance!"
   ]
  },
  {
   "cell_type": "markdown",
   "metadata": {},
   "source": [
    "First a quick tour of Jupyter - be sure to clear all"
   ]
  },
  {
   "cell_type": "markdown",
   "metadata": {},
   "source": [
    "# First we need to import our libraries"
   ]
  },
  {
   "cell_type": "code",
   "execution_count": 53,
   "metadata": {
    "slideshow": {
     "slide_type": "slide"
    }
   },
   "outputs": [],
   "source": [
    "%matplotlib inline\n",
    "\n",
    "import os\n",
    "\n",
    "import matplotlib as mpl\n",
    "import matplotlib.pyplot as plt\n",
    "\n",
    "# The two statemens below are used mainly to set up a plotting\n",
    "# default style that's better than the default from matplotlib\n",
    "import seaborn as sns\n",
    "plt.style.use('bmh')\n",
    "\n",
    "from shapely.geometry import Point#, LineString\n",
    "import pandas as pd\n",
    "import geopandas as gpd\n",
    "from geopandas import GeoSeries, GeoDataFrame\n",
    "import pyepsg\n",
    "\n",
    "#from shapely.wkt import loads\n",
    "\n",
    "#data_pth = \"../Data/\""
   ]
  },
  {
   "cell_type": "markdown",
   "metadata": {},
   "source": [
    "# Let's start by making some simple graphs\n",
    "Source: https://github.com/geohackweek/tutorial_contents"
   ]
  },
  {
   "cell_type": "code",
   "execution_count": 54,
   "metadata": {},
   "outputs": [
    {
     "data": {
      "text/plain": [
       "('2.1.1', '0.22.0', '0.3.0')"
      ]
     },
     "execution_count": 54,
     "metadata": {},
     "output_type": "execute_result"
    }
   ],
   "source": [
    "# Let's check the version of the libraries we're using. Do yours look the same as mine?\n",
    "mpl.__version__, pd.__version__, gpd.__version__"
   ]
  },
  {
   "cell_type": "code",
   "execution_count": 55,
   "metadata": {},
   "outputs": [
    {
     "data": {
      "text/plain": [
       "0        POINT (-120 45)\n",
       "1      POINT (-121.2 46)\n",
       "2    POINT (-122.9 47.5)\n",
       "dtype: object"
      ]
     },
     "execution_count": 55,
     "metadata": {},
     "output_type": "execute_result"
    }
   ],
   "source": [
    "# Let's create some data\n",
    "# Create a GeoSeries from a list of shapely Point objects using the Point constructor\n",
    "gs = GeoSeries([Point(-120, 45), Point(-121.2, 46), Point(-122.9, 47.5)])\n",
    "gs"
   ]
  },
  {
   "cell_type": "code",
   "execution_count": 56,
   "metadata": {},
   "outputs": [
    {
     "data": {
      "text/plain": [
       "(geopandas.geoseries.GeoSeries, 3)"
      ]
     },
     "execution_count": 56,
     "metadata": {},
     "output_type": "execute_result"
    }
   ],
   "source": [
    "# Check the type and length of our GeoSeries\n",
    "type(gs), len(gs)"
   ]
  },
  {
   "cell_type": "code",
   "execution_count": 64,
   "metadata": {},
   "outputs": [],
   "source": [
    "# Coordinates are of no use unless you know their reference system. Set the projection/crs to WGS 84, aka EPSG 4326\n",
    "gs.crs = {'init': 'epsg:4326'}"
   ]
  },
  {
   "cell_type": "code",
   "execution_count": 69,
   "metadata": {},
   "outputs": [
    {
     "data": {
      "image/png": "[encoded data removed]",
      "text/plain": [
       "<matplotlib.figure.Figure at 0x1d292f6f128>"
      ]
     },
     "metadata": {},
     "output_type": "display_data"
    }
   ],
   "source": [
    "# We can plot our points with the plot function, with some customizations\n",
    "gs.plot(marker='*', color='red', markersize=100, figsize=(4, 4))\n",
    "\n",
    "# We limit the bounds to our area, but this will happen by default\n",
    "plt.xlim([-123, -119.8])\n",
    "plt.ylim([44.8, 47.7]);"
   ]
  },
  {
   "cell_type": "code",
   "execution_count": 72,
   "metadata": {},
   "outputs": [],
   "source": [
    "# Let's define a simple dictionary of lists, that we’ll use again later.\n",
    "data = {'name': ['House', 'Work', 'Pet Store'],\n",
    "        'lat': [45, 46, 47.5],\n",
    "        'lon': [-120, -121.2, -122.9]}"
   ]
  },
  {
   "cell_type": "code",
   "execution_count": 76,
   "metadata": {},
   "outputs": [
    {
     "data": {
      "text/plain": [
       "[<shapely.geometry.point.Point at 0x1d292e7bba8>,\n",
       " <shapely.geometry.point.Point at 0x1d2930652e8>,\n",
       " <shapely.geometry.point.Point at 0x1d291e53ac8>]"
      ]
     },
     "execution_count": 76,
     "metadata": {},
     "output_type": "execute_result"
    }
   ],
   "source": [
    "# Now we create a list of Point shapely objects out of the X & Y coordinate lists\n",
    "# Very important - the geometry is what makes the data spatial\n",
    "geometry = [Point(xy) for xy in zip(data['lon'], data['lat'])]\n",
    "geometry"
   ]
  },
  {
   "cell_type": "code",
   "execution_count": 77,
   "metadata": {},
   "outputs": [
    {
     "data": {
      "text/plain": [
       "House            POINT (-120 45)\n",
       "Work           POINT (-121.2 46)\n",
       "Pet Store    POINT (-122.9 47.5)\n",
       "dtype: object"
      ]
     },
     "execution_count": 77,
     "metadata": {},
     "output_type": "execute_result"
    }
   ],
   "source": [
    "# We’ll wrap up by creating a GeoSeries where we explicitly define the index values\n",
    "# If you change the index to lat or long the graph will look different\n",
    "# The index is how it orients it in a row format\n",
    "gs = GeoSeries(geometry, index=data['name'])\n",
    "gs"
   ]
  },
  {
   "cell_type": "code",
   "execution_count": 79,
   "metadata": {},
   "outputs": [
    {
     "data": {
      "text/html": [
       "<div>\n",
       "<style scoped>\n",
       "    .dataframe tbody tr th:only-of-type {\n",
       "        vertical-align: middle;\n",
       "    }\n",
       "\n",
       "    .dataframe tbody tr th {\n",
       "        vertical-align: top;\n",
       "    }\n",
       "\n",
       "    .dataframe thead th {\n",
       "        text-align: right;\n",
       "    }\n",
       "</style>\n",
       "<table border=\"1\" class=\"dataframe\">\n",
       "  <thead>\n",
       "    <tr style=\"text-align: right;\">\n",
       "      <th></th>\n",
       "      <th>lat</th>\n",
       "      <th>lon</th>\n",
       "      <th>name</th>\n",
       "    </tr>\n",
       "  </thead>\n",
       "  <tbody>\n",
       "    <tr>\n",
       "      <th>0</th>\n",
       "      <td>45.0</td>\n",
       "      <td>-120.0</td>\n",
       "      <td>House</td>\n",
       "    </tr>\n",
       "    <tr>\n",
       "      <th>1</th>\n",
       "      <td>46.0</td>\n",
       "      <td>-121.2</td>\n",
       "      <td>Work</td>\n",
       "    </tr>\n",
       "    <tr>\n",
       "      <th>2</th>\n",
       "      <td>47.5</td>\n",
       "      <td>-122.9</td>\n",
       "      <td>Pet Store</td>\n",
       "    </tr>\n",
       "  </tbody>\n",
       "</table>\n",
       "</div>"
      ],
      "text/plain": [
       "    lat    lon       name\n",
       "0  45.0 -120.0      House\n",
       "1  46.0 -121.2       Work\n",
       "2  47.5 -122.9  Pet Store"
      ]
     },
     "execution_count": 79,
     "metadata": {},
     "output_type": "execute_result"
    }
   ],
   "source": [
    "# Talk about difference between geoseries and geodataframe - above we used a GeoSeries, below we won't\n",
    "df = pd.DataFrame(data)\n",
    "df"
   ]
  },
  {
   "cell_type": "code",
   "execution_count": 80,
   "metadata": {},
   "outputs": [],
   "source": [
    "# Now we use the DataFrame and the “list-of-shapely-Point-objects” approach to create a GeoDataFrame. \n",
    "# Note the use of two DataFrame attribute columns, which are effectively just two simple Pandas Series.\n",
    "# Be sure to explain what zip does\n",
    "geometry = [Point(xy) for xy in zip(df['lon'], df['lat'])]\n",
    "gdf = GeoDataFrame(df, geometry=geometry)"
   ]
  },
  {
   "cell_type": "code",
   "execution_count": 52,
   "metadata": {},
   "outputs": [
    {
     "data": {
      "image/png": "[encoded data removed]",
      "text/plain": [
       "<matplotlib.figure.Figure at 0x1d292ffe240>"
      ]
     },
     "metadata": {},
     "output_type": "display_data"
    }
   ],
   "source": [
    "# There’s nothing new to visualize, but this time we’re using the plot method from a GeoDataFrame, not from a GeoSeries. \n",
    "gdf.plot(marker='*', color='green', markersize=50, figsize=(3, 3));"
   ]
  },
  {
   "cell_type": "markdown",
   "metadata": {},
   "source": [
    "# Using Geopandas Datasets\n",
    "Source: http://geopandas.org/mapping.html\n",
    "\n",
    "We have now made some point objects, but its more fun to work with real data. Geopandas comes with some datasets that we can use!"
   ]
  },
  {
   "cell_type": "code",
   "execution_count": 108,
   "metadata": {},
   "outputs": [
    {
     "data": {
      "text/html": [
       "<div>\n",
       "<style scoped>\n",
       "    .dataframe tbody tr th:only-of-type {\n",
       "        vertical-align: middle;\n",
       "    }\n",
       "\n",
       "    .dataframe tbody tr th {\n",
       "        vertical-align: top;\n",
       "    }\n",
       "\n",
       "    .dataframe thead th {\n",
       "        text-align: right;\n",
       "    }\n",
       "</style>\n",
       "<table border=\"1\" class=\"dataframe\">\n",
       "  <thead>\n",
       "    <tr style=\"text-align: right;\">\n",
       "      <th></th>\n",
       "      <th>pop_est</th>\n",
       "      <th>continent</th>\n",
       "      <th>iso_a3</th>\n",
       "      <th>gdp_md_est</th>\n",
       "      <th>geometry</th>\n",
       "    </tr>\n",
       "    <tr>\n",
       "      <th>name</th>\n",
       "      <th></th>\n",
       "      <th></th>\n",
       "      <th></th>\n",
       "      <th></th>\n",
       "      <th></th>\n",
       "    </tr>\n",
       "  </thead>\n",
       "  <tbody>\n",
       "    <tr>\n",
       "      <th>Afghanistan</th>\n",
       "      <td>28400000.0</td>\n",
       "      <td>Asia</td>\n",
       "      <td>AFG</td>\n",
       "      <td>22270.0</td>\n",
       "      <td>POLYGON ((61.21081709172574 35.65007233330923,...</td>\n",
       "    </tr>\n",
       "    <tr>\n",
       "      <th>Angola</th>\n",
       "      <td>12799293.0</td>\n",
       "      <td>Africa</td>\n",
       "      <td>AGO</td>\n",
       "      <td>110300.0</td>\n",
       "      <td>(POLYGON ((16.32652835456705 -5.87747039146621...</td>\n",
       "    </tr>\n",
       "    <tr>\n",
       "      <th>Albania</th>\n",
       "      <td>3639453.0</td>\n",
       "      <td>Europe</td>\n",
       "      <td>ALB</td>\n",
       "      <td>21810.0</td>\n",
       "      <td>POLYGON ((20.59024743010491 41.85540416113361,...</td>\n",
       "    </tr>\n",
       "    <tr>\n",
       "      <th>United Arab Emirates</th>\n",
       "      <td>4798491.0</td>\n",
       "      <td>Asia</td>\n",
       "      <td>ARE</td>\n",
       "      <td>184300.0</td>\n",
       "      <td>POLYGON ((51.57951867046327 24.24549713795111,...</td>\n",
       "    </tr>\n",
       "    <tr>\n",
       "      <th>Argentina</th>\n",
       "      <td>40913584.0</td>\n",
       "      <td>South America</td>\n",
       "      <td>ARG</td>\n",
       "      <td>573900.0</td>\n",
       "      <td>(POLYGON ((-65.50000000000003 -55.199999999999...</td>\n",
       "    </tr>\n",
       "    <tr>\n",
       "      <th>Armenia</th>\n",
       "      <td>2967004.0</td>\n",
       "      <td>Asia</td>\n",
       "      <td>ARM</td>\n",
       "      <td>18770.0</td>\n",
       "      <td>POLYGON ((43.58274580259273 41.09214325618257,...</td>\n",
       "    </tr>\n",
       "    <tr>\n",
       "      <th>Antarctica</th>\n",
       "      <td>3802.0</td>\n",
       "      <td>Antarctica</td>\n",
       "      <td>ATA</td>\n",
       "      <td>760.4</td>\n",
       "      <td>(POLYGON ((-59.57209469261153 -80.040178725096...</td>\n",
       "    </tr>\n",
       "    <tr>\n",
       "      <th>Fr. S. Antarctic Lands</th>\n",
       "      <td>140.0</td>\n",
       "      <td>Seven seas (open ocean)</td>\n",
       "      <td>ATF</td>\n",
       "      <td>16.0</td>\n",
       "      <td>POLYGON ((68.935 -48.62500000000001, 69.58 -48...</td>\n",
       "    </tr>\n",
       "    <tr>\n",
       "      <th>Australia</th>\n",
       "      <td>21262641.0</td>\n",
       "      <td>Oceania</td>\n",
       "      <td>AUS</td>\n",
       "      <td>800200.0</td>\n",
       "      <td>(POLYGON ((145.3979781434948 -40.7925485166058...</td>\n",
       "    </tr>\n",
       "    <tr>\n",
       "      <th>Austria</th>\n",
       "      <td>8210281.0</td>\n",
       "      <td>Europe</td>\n",
       "      <td>AUT</td>\n",
       "      <td>329500.0</td>\n",
       "      <td>POLYGON ((16.97966678230404 48.12349701597631,...</td>\n",
       "    </tr>\n",
       "    <tr>\n",
       "      <th>Azerbaijan</th>\n",
       "      <td>8238672.0</td>\n",
       "      <td>Asia</td>\n",
       "      <td>AZE</td>\n",
       "      <td>77610.0</td>\n",
       "      <td>(POLYGON ((45.0019873390568 39.7400035670496, ...</td>\n",
       "    </tr>\n",
       "    <tr>\n",
       "      <th>Burundi</th>\n",
       "      <td>8988091.0</td>\n",
       "      <td>Africa</td>\n",
       "      <td>BDI</td>\n",
       "      <td>3102.0</td>\n",
       "      <td>POLYGON ((29.33999759290035 -4.499983412294092...</td>\n",
       "    </tr>\n",
       "    <tr>\n",
       "      <th>Belgium</th>\n",
       "      <td>10414336.0</td>\n",
       "      <td>Europe</td>\n",
       "      <td>BEL</td>\n",
       "      <td>389300.0</td>\n",
       "      <td>POLYGON ((3.314971144228537 51.34578095153609,...</td>\n",
       "    </tr>\n",
       "    <tr>\n",
       "      <th>Benin</th>\n",
       "      <td>8791832.0</td>\n",
       "      <td>Africa</td>\n",
       "      <td>BEN</td>\n",
       "      <td>12830.0</td>\n",
       "      <td>POLYGON ((2.691701694356254 6.258817246928629,...</td>\n",
       "    </tr>\n",
       "    <tr>\n",
       "      <th>Burkina Faso</th>\n",
       "      <td>15746232.0</td>\n",
       "      <td>Africa</td>\n",
       "      <td>BFA</td>\n",
       "      <td>17820.0</td>\n",
       "      <td>POLYGON ((-2.827496303712707 9.642460842319778...</td>\n",
       "    </tr>\n",
       "    <tr>\n",
       "      <th>Bangladesh</th>\n",
       "      <td>156050883.0</td>\n",
       "      <td>Asia</td>\n",
       "      <td>BGD</td>\n",
       "      <td>224000.0</td>\n",
       "      <td>POLYGON ((92.67272098182556 22.04123891854125,...</td>\n",
       "    </tr>\n",
       "    <tr>\n",
       "      <th>Bulgaria</th>\n",
       "      <td>7204687.0</td>\n",
       "      <td>Europe</td>\n",
       "      <td>BGR</td>\n",
       "      <td>93750.0</td>\n",
       "      <td>POLYGON ((22.65714969248299 44.23492300066128,...</td>\n",
       "    </tr>\n",
       "    <tr>\n",
       "      <th>Bahamas</th>\n",
       "      <td>309156.0</td>\n",
       "      <td>North America</td>\n",
       "      <td>BHS</td>\n",
       "      <td>9093.0</td>\n",
       "      <td>(POLYGON ((-77.53465999999997 23.7597499999999...</td>\n",
       "    </tr>\n",
       "    <tr>\n",
       "      <th>Bosnia and Herz.</th>\n",
       "      <td>4613414.0</td>\n",
       "      <td>Europe</td>\n",
       "      <td>BIH</td>\n",
       "      <td>29700.0</td>\n",
       "      <td>POLYGON ((19.00548628101012 44.86023366960916,...</td>\n",
       "    </tr>\n",
       "    <tr>\n",
       "      <th>Belarus</th>\n",
       "      <td>9648533.0</td>\n",
       "      <td>Europe</td>\n",
       "      <td>BLR</td>\n",
       "      <td>114100.0</td>\n",
       "      <td>POLYGON ((23.48412763844985 53.91249766704114,...</td>\n",
       "    </tr>\n",
       "    <tr>\n",
       "      <th>Belize</th>\n",
       "      <td>307899.0</td>\n",
       "      <td>North America</td>\n",
       "      <td>BLZ</td>\n",
       "      <td>2536.0</td>\n",
       "      <td>POLYGON ((-89.14308041050332 17.80831899664932...</td>\n",
       "    </tr>\n",
       "    <tr>\n",
       "      <th>Bolivia</th>\n",
       "      <td>9775246.0</td>\n",
       "      <td>South America</td>\n",
       "      <td>BOL</td>\n",
       "      <td>43270.0</td>\n",
       "      <td>POLYGON ((-62.84646847192156 -22.0349854468694...</td>\n",
       "    </tr>\n",
       "    <tr>\n",
       "      <th>Brazil</th>\n",
       "      <td>198739269.0</td>\n",
       "      <td>South America</td>\n",
       "      <td>BRA</td>\n",
       "      <td>1993000.0</td>\n",
       "      <td>POLYGON ((-57.62513342958296 -30.2162948544542...</td>\n",
       "    </tr>\n",
       "    <tr>\n",
       "      <th>Brunei</th>\n",
       "      <td>388190.0</td>\n",
       "      <td>Asia</td>\n",
       "      <td>BRN</td>\n",
       "      <td>20250.0</td>\n",
       "      <td>POLYGON ((114.2040165548284 4.525873928236805,...</td>\n",
       "    </tr>\n",
       "    <tr>\n",
       "      <th>Bhutan</th>\n",
       "      <td>691141.0</td>\n",
       "      <td>Asia</td>\n",
       "      <td>BTN</td>\n",
       "      <td>3524.0</td>\n",
       "      <td>POLYGON ((91.69665652869668 27.77174184825166,...</td>\n",
       "    </tr>\n",
       "    <tr>\n",
       "      <th>Botswana</th>\n",
       "      <td>1990876.0</td>\n",
       "      <td>Africa</td>\n",
       "      <td>BWA</td>\n",
       "      <td>27060.0</td>\n",
       "      <td>POLYGON ((25.64916344575016 -18.53602589281899...</td>\n",
       "    </tr>\n",
       "    <tr>\n",
       "      <th>Central African Rep.</th>\n",
       "      <td>4511488.0</td>\n",
       "      <td>Africa</td>\n",
       "      <td>CAF</td>\n",
       "      <td>3198.0</td>\n",
       "      <td>POLYGON ((15.27946048346911 7.421924546737969,...</td>\n",
       "    </tr>\n",
       "    <tr>\n",
       "      <th>Canada</th>\n",
       "      <td>33487208.0</td>\n",
       "      <td>North America</td>\n",
       "      <td>CAN</td>\n",
       "      <td>1300000.0</td>\n",
       "      <td>(POLYGON ((-63.66449999999998 46.5500099999999...</td>\n",
       "    </tr>\n",
       "    <tr>\n",
       "      <th>Switzerland</th>\n",
       "      <td>7604467.0</td>\n",
       "      <td>Europe</td>\n",
       "      <td>CHE</td>\n",
       "      <td>316700.0</td>\n",
       "      <td>POLYGON ((9.59422610844635 47.52505809182027, ...</td>\n",
       "    </tr>\n",
       "    <tr>\n",
       "      <th>Chile</th>\n",
       "      <td>16601707.0</td>\n",
       "      <td>South America</td>\n",
       "      <td>CHL</td>\n",
       "      <td>244500.0</td>\n",
       "      <td>(POLYGON ((-68.63401022758316 -52.636370458874...</td>\n",
       "    </tr>\n",
       "    <tr>\n",
       "      <th>...</th>\n",
       "      <td>...</td>\n",
       "      <td>...</td>\n",
       "      <td>...</td>\n",
       "      <td>...</td>\n",
       "      <td>...</td>\n",
       "    </tr>\n",
       "    <tr>\n",
       "      <th>Serbia</th>\n",
       "      <td>7379339.0</td>\n",
       "      <td>Europe</td>\n",
       "      <td>SRB</td>\n",
       "      <td>80340.0</td>\n",
       "      <td>POLYGON ((20.87431277841341 45.41637543393432,...</td>\n",
       "    </tr>\n",
       "    <tr>\n",
       "      <th>Suriname</th>\n",
       "      <td>481267.0</td>\n",
       "      <td>South America</td>\n",
       "      <td>SUR</td>\n",
       "      <td>4254.0</td>\n",
       "      <td>POLYGON ((-57.14743648947689 5.973149929219161...</td>\n",
       "    </tr>\n",
       "    <tr>\n",
       "      <th>Slovakia</th>\n",
       "      <td>5463046.0</td>\n",
       "      <td>Europe</td>\n",
       "      <td>SVK</td>\n",
       "      <td>119500.0</td>\n",
       "      <td>POLYGON ((18.85314415861362 49.49622976337764,...</td>\n",
       "    </tr>\n",
       "    <tr>\n",
       "      <th>Slovenia</th>\n",
       "      <td>2005692.0</td>\n",
       "      <td>Europe</td>\n",
       "      <td>SVN</td>\n",
       "      <td>59340.0</td>\n",
       "      <td>POLYGON ((13.80647545742153 46.50930613869122,...</td>\n",
       "    </tr>\n",
       "    <tr>\n",
       "      <th>Sweden</th>\n",
       "      <td>9059651.0</td>\n",
       "      <td>Europe</td>\n",
       "      <td>SWE</td>\n",
       "      <td>344300.0</td>\n",
       "      <td>POLYGON ((22.18317345550193 65.72374054632017,...</td>\n",
       "    </tr>\n",
       "    <tr>\n",
       "      <th>Swaziland</th>\n",
       "      <td>1123913.0</td>\n",
       "      <td>Africa</td>\n",
       "      <td>SWZ</td>\n",
       "      <td>5702.0</td>\n",
       "      <td>POLYGON ((32.07166548028107 -26.73382008230491...</td>\n",
       "    </tr>\n",
       "    <tr>\n",
       "      <th>Syria</th>\n",
       "      <td>20178485.0</td>\n",
       "      <td>Asia</td>\n",
       "      <td>SYR</td>\n",
       "      <td>98830.0</td>\n",
       "      <td>POLYGON ((38.79234052913608 33.37868642835222,...</td>\n",
       "    </tr>\n",
       "    <tr>\n",
       "      <th>Chad</th>\n",
       "      <td>10329208.0</td>\n",
       "      <td>Africa</td>\n",
       "      <td>TCD</td>\n",
       "      <td>15860.0</td>\n",
       "      <td>POLYGON ((14.4957873877629 12.85939626713736, ...</td>\n",
       "    </tr>\n",
       "    <tr>\n",
       "      <th>Togo</th>\n",
       "      <td>6019877.0</td>\n",
       "      <td>Africa</td>\n",
       "      <td>TGO</td>\n",
       "      <td>5118.0</td>\n",
       "      <td>POLYGON ((1.865240512712319 6.142157701029731,...</td>\n",
       "    </tr>\n",
       "    <tr>\n",
       "      <th>Thailand</th>\n",
       "      <td>65905410.0</td>\n",
       "      <td>Asia</td>\n",
       "      <td>THA</td>\n",
       "      <td>547400.0</td>\n",
       "      <td>POLYGON ((102.5849324890267 12.18659495691328,...</td>\n",
       "    </tr>\n",
       "    <tr>\n",
       "      <th>Tajikistan</th>\n",
       "      <td>7349145.0</td>\n",
       "      <td>Asia</td>\n",
       "      <td>TJK</td>\n",
       "      <td>13160.0</td>\n",
       "      <td>POLYGON ((71.01419803252017 40.24436554621823,...</td>\n",
       "    </tr>\n",
       "    <tr>\n",
       "      <th>Turkmenistan</th>\n",
       "      <td>4884887.0</td>\n",
       "      <td>Asia</td>\n",
       "      <td>TKM</td>\n",
       "      <td>29780.0</td>\n",
       "      <td>POLYGON ((61.21081709172574 35.65007233330923,...</td>\n",
       "    </tr>\n",
       "    <tr>\n",
       "      <th>Timor-Leste</th>\n",
       "      <td>1131612.0</td>\n",
       "      <td>Asia</td>\n",
       "      <td>TLS</td>\n",
       "      <td>2520.0</td>\n",
       "      <td>POLYGON ((124.9686824891162 -8.892790215697083...</td>\n",
       "    </tr>\n",
       "    <tr>\n",
       "      <th>Trinidad and Tobago</th>\n",
       "      <td>1310000.0</td>\n",
       "      <td>North America</td>\n",
       "      <td>TTO</td>\n",
       "      <td>29010.0</td>\n",
       "      <td>POLYGON ((-61.68000000000001 10.76, -61.105 10...</td>\n",
       "    </tr>\n",
       "    <tr>\n",
       "      <th>Tunisia</th>\n",
       "      <td>10486339.0</td>\n",
       "      <td>Africa</td>\n",
       "      <td>TUN</td>\n",
       "      <td>81710.0</td>\n",
       "      <td>POLYGON ((9.482139926805274 30.30755605724619,...</td>\n",
       "    </tr>\n",
       "    <tr>\n",
       "      <th>Turkey</th>\n",
       "      <td>76805524.0</td>\n",
       "      <td>Asia</td>\n",
       "      <td>TUR</td>\n",
       "      <td>902700.0</td>\n",
       "      <td>(POLYGON ((36.91312706884216 41.33535838476431...</td>\n",
       "    </tr>\n",
       "    <tr>\n",
       "      <th>Taiwan</th>\n",
       "      <td>22974347.0</td>\n",
       "      <td>Asia</td>\n",
       "      <td>TWN</td>\n",
       "      <td>712000.0</td>\n",
       "      <td>POLYGON ((121.7778178243899 24.3942735865194, ...</td>\n",
       "    </tr>\n",
       "    <tr>\n",
       "      <th>Tanzania</th>\n",
       "      <td>41048532.0</td>\n",
       "      <td>Africa</td>\n",
       "      <td>TZA</td>\n",
       "      <td>54250.0</td>\n",
       "      <td>POLYGON ((33.9037111971046 -0.9499999999999886...</td>\n",
       "    </tr>\n",
       "    <tr>\n",
       "      <th>Uganda</th>\n",
       "      <td>32369558.0</td>\n",
       "      <td>Africa</td>\n",
       "      <td>UGA</td>\n",
       "      <td>39380.0</td>\n",
       "      <td>POLYGON ((31.86617000000007 -1.027359999999931...</td>\n",
       "    </tr>\n",
       "    <tr>\n",
       "      <th>Ukraine</th>\n",
       "      <td>45700395.0</td>\n",
       "      <td>Europe</td>\n",
       "      <td>UKR</td>\n",
       "      <td>339800.0</td>\n",
       "      <td>POLYGON ((31.78599816257159 52.10167796488545,...</td>\n",
       "    </tr>\n",
       "    <tr>\n",
       "      <th>Uruguay</th>\n",
       "      <td>3494382.0</td>\n",
       "      <td>South America</td>\n",
       "      <td>URY</td>\n",
       "      <td>43160.0</td>\n",
       "      <td>POLYGON ((-57.62513342958296 -30.2162948544542...</td>\n",
       "    </tr>\n",
       "    <tr>\n",
       "      <th>United States</th>\n",
       "      <td>313973000.0</td>\n",
       "      <td>North America</td>\n",
       "      <td>USA</td>\n",
       "      <td>15094000.0</td>\n",
       "      <td>(POLYGON ((-155.54211 19.08348000000001, -155....</td>\n",
       "    </tr>\n",
       "    <tr>\n",
       "      <th>Uzbekistan</th>\n",
       "      <td>27606007.0</td>\n",
       "      <td>Asia</td>\n",
       "      <td>UZB</td>\n",
       "      <td>71670.0</td>\n",
       "      <td>POLYGON ((66.51860680528867 37.36278432875879,...</td>\n",
       "    </tr>\n",
       "    <tr>\n",
       "      <th>Venezuela</th>\n",
       "      <td>26814843.0</td>\n",
       "      <td>South America</td>\n",
       "      <td>VEN</td>\n",
       "      <td>357400.0</td>\n",
       "      <td>POLYGON ((-71.3315836249503 11.77628408451581,...</td>\n",
       "    </tr>\n",
       "    <tr>\n",
       "      <th>Vietnam</th>\n",
       "      <td>86967524.0</td>\n",
       "      <td>Asia</td>\n",
       "      <td>VNM</td>\n",
       "      <td>241700.0</td>\n",
       "      <td>POLYGON ((108.0501802917829 21.55237986906012,...</td>\n",
       "    </tr>\n",
       "    <tr>\n",
       "      <th>Vanuatu</th>\n",
       "      <td>218519.0</td>\n",
       "      <td>Oceania</td>\n",
       "      <td>VUT</td>\n",
       "      <td>988.5</td>\n",
       "      <td>(POLYGON ((167.8448767438451 -16.4663331030971...</td>\n",
       "    </tr>\n",
       "    <tr>\n",
       "      <th>Yemen</th>\n",
       "      <td>23822783.0</td>\n",
       "      <td>Asia</td>\n",
       "      <td>YEM</td>\n",
       "      <td>55280.0</td>\n",
       "      <td>POLYGON ((53.10857262554751 16.65105113368895,...</td>\n",
       "    </tr>\n",
       "    <tr>\n",
       "      <th>South Africa</th>\n",
       "      <td>49052489.0</td>\n",
       "      <td>Africa</td>\n",
       "      <td>ZAF</td>\n",
       "      <td>491000.0</td>\n",
       "      <td>POLYGON ((31.52100141777888 -29.25738697684626...</td>\n",
       "    </tr>\n",
       "    <tr>\n",
       "      <th>Zambia</th>\n",
       "      <td>11862740.0</td>\n",
       "      <td>Africa</td>\n",
       "      <td>ZMB</td>\n",
       "      <td>17500.0</td>\n",
       "      <td>POLYGON ((32.75937544122132 -9.23059905358906,...</td>\n",
       "    </tr>\n",
       "    <tr>\n",
       "      <th>Zimbabwe</th>\n",
       "      <td>12619600.0</td>\n",
       "      <td>Africa</td>\n",
       "      <td>ZWE</td>\n",
       "      <td>9323.0</td>\n",
       "      <td>POLYGON ((31.19140913262129 -22.2515096981724,...</td>\n",
       "    </tr>\n",
       "  </tbody>\n",
       "</table>\n",
       "<p>177 rows × 5 columns</p>\n",
       "</div>"
      ],
      "text/plain": [
       "                            pop_est                continent iso_a3  \\\n",
       "name                                                                  \n",
       "Afghanistan              28400000.0                     Asia    AFG   \n",
       "Angola                   12799293.0                   Africa    AGO   \n",
       "Albania                   3639453.0                   Europe    ALB   \n",
       "United Arab Emirates      4798491.0                     Asia    ARE   \n",
       "Argentina                40913584.0            South America    ARG   \n",
       "Armenia                   2967004.0                     Asia    ARM   \n",
       "Antarctica                   3802.0               Antarctica    ATA   \n",
       "Fr. S. Antarctic Lands        140.0  Seven seas (open ocean)    ATF   \n",
       "Australia                21262641.0                  Oceania    AUS   \n",
       "Austria                   8210281.0                   Europe    AUT   \n",
       "Azerbaijan                8238672.0                     Asia    AZE   \n",
       "Burundi                   8988091.0                   Africa    BDI   \n",
       "Belgium                  10414336.0                   Europe    BEL   \n",
       "Benin                     8791832.0                   Africa    BEN   \n",
       "Burkina Faso             15746232.0                   Africa    BFA   \n",
       "Bangladesh              156050883.0                     Asia    BGD   \n",
       "Bulgaria                  7204687.0                   Europe    BGR   \n",
       "Bahamas                    309156.0            North America    BHS   \n",
       "Bosnia and Herz.          4613414.0                   Europe    BIH   \n",
       "Belarus                   9648533.0                   Europe    BLR   \n",
       "Belize                     307899.0            North America    BLZ   \n",
       "Bolivia                   9775246.0            South America    BOL   \n",
       "Brazil                  198739269.0            South America    BRA   \n",
       "Brunei                     388190.0                     Asia    BRN   \n",
       "Bhutan                     691141.0                     Asia    BTN   \n",
       "Botswana                  1990876.0                   Africa    BWA   \n",
       "Central African Rep.      4511488.0                   Africa    CAF   \n",
       "Canada                   33487208.0            North America    CAN   \n",
       "Switzerland               7604467.0                   Europe    CHE   \n",
       "Chile                    16601707.0            South America    CHL   \n",
       "...                             ...                      ...    ...   \n",
       "Serbia                    7379339.0                   Europe    SRB   \n",
       "Suriname                   481267.0            South America    SUR   \n",
       "Slovakia                  5463046.0                   Europe    SVK   \n",
       "Slovenia                  2005692.0                   Europe    SVN   \n",
       "Sweden                    9059651.0                   Europe    SWE   \n",
       "Swaziland                 1123913.0                   Africa    SWZ   \n",
       "Syria                    20178485.0                     Asia    SYR   \n",
       "Chad                     10329208.0                   Africa    TCD   \n",
       "Togo                      6019877.0                   Africa    TGO   \n",
       "Thailand                 65905410.0                     Asia    THA   \n",
       "Tajikistan                7349145.0                     Asia    TJK   \n",
       "Turkmenistan              4884887.0                     Asia    TKM   \n",
       "Timor-Leste               1131612.0                     Asia    TLS   \n",
       "Trinidad and Tobago       1310000.0            North America    TTO   \n",
       "Tunisia                  10486339.0                   Africa    TUN   \n",
       "Turkey                   76805524.0                     Asia    TUR   \n",
       "Taiwan                   22974347.0                     Asia    TWN   \n",
       "Tanzania                 41048532.0                   Africa    TZA   \n",
       "Uganda                   32369558.0                   Africa    UGA   \n",
       "Ukraine                  45700395.0                   Europe    UKR   \n",
       "Uruguay                   3494382.0            South America    URY   \n",
       "United States           313973000.0            North America    USA   \n",
       "Uzbekistan               27606007.0                     Asia    UZB   \n",
       "Venezuela                26814843.0            South America    VEN   \n",
       "Vietnam                  86967524.0                     Asia    VNM   \n",
       "Vanuatu                    218519.0                  Oceania    VUT   \n",
       "Yemen                    23822783.0                     Asia    YEM   \n",
       "South Africa             49052489.0                   Africa    ZAF   \n",
       "Zambia                   11862740.0                   Africa    ZMB   \n",
       "Zimbabwe                 12619600.0                   Africa    ZWE   \n",
       "\n",
       "                        gdp_md_est  \\\n",
       "name                                 \n",
       "Afghanistan                22270.0   \n",
       "Angola                    110300.0   \n",
       "Albania                    21810.0   \n",
       "United Arab Emirates      184300.0   \n",
       "Argentina                 573900.0   \n",
       "Armenia                    18770.0   \n",
       "Antarctica                   760.4   \n",
       "Fr. S. Antarctic Lands        16.0   \n",
       "Australia                 800200.0   \n",
       "Austria                   329500.0   \n",
       "Azerbaijan                 77610.0   \n",
       "Burundi                     3102.0   \n",
       "Belgium                   389300.0   \n",
       "Benin                      12830.0   \n",
       "Burkina Faso               17820.0   \n",
       "Bangladesh                224000.0   \n",
       "Bulgaria                   93750.0   \n",
       "Bahamas                     9093.0   \n",
       "Bosnia and Herz.           29700.0   \n",
       "Belarus                   114100.0   \n",
       "Belize                      2536.0   \n",
       "Bolivia                    43270.0   \n",
       "Brazil                   1993000.0   \n",
       "Brunei                     20250.0   \n",
       "Bhutan                      3524.0   \n",
       "Botswana                   27060.0   \n",
       "Central African Rep.        3198.0   \n",
       "Canada                   1300000.0   \n",
       "Switzerland               316700.0   \n",
       "Chile                     244500.0   \n",
       "...                            ...   \n",
       "Serbia                     80340.0   \n",
       "Suriname                    4254.0   \n",
       "Slovakia                  119500.0   \n",
       "Slovenia                   59340.0   \n",
       "Sweden                    344300.0   \n",
       "Swaziland                   5702.0   \n",
       "Syria                      98830.0   \n",
       "Chad                       15860.0   \n",
       "Togo                        5118.0   \n",
       "Thailand                  547400.0   \n",
       "Tajikistan                 13160.0   \n",
       "Turkmenistan               29780.0   \n",
       "Timor-Leste                 2520.0   \n",
       "Trinidad and Tobago        29010.0   \n",
       "Tunisia                    81710.0   \n",
       "Turkey                    902700.0   \n",
       "Taiwan                    712000.0   \n",
       "Tanzania                   54250.0   \n",
       "Uganda                     39380.0   \n",
       "Ukraine                   339800.0   \n",
       "Uruguay                    43160.0   \n",
       "United States           15094000.0   \n",
       "Uzbekistan                 71670.0   \n",
       "Venezuela                 357400.0   \n",
       "Vietnam                   241700.0   \n",
       "Vanuatu                      988.5   \n",
       "Yemen                      55280.0   \n",
       "South Africa              491000.0   \n",
       "Zambia                     17500.0   \n",
       "Zimbabwe                    9323.0   \n",
       "\n",
       "                                                                 geometry  \n",
       "name                                                                       \n",
       "Afghanistan             POLYGON ((61.21081709172574 35.65007233330923,...  \n",
       "Angola                  (POLYGON ((16.32652835456705 -5.87747039146621...  \n",
       "Albania                 POLYGON ((20.59024743010491 41.85540416113361,...  \n",
       "United Arab Emirates    POLYGON ((51.57951867046327 24.24549713795111,...  \n",
       "Argentina               (POLYGON ((-65.50000000000003 -55.199999999999...  \n",
       "Armenia                 POLYGON ((43.58274580259273 41.09214325618257,...  \n",
       "Antarctica              (POLYGON ((-59.57209469261153 -80.040178725096...  \n",
       "Fr. S. Antarctic Lands  POLYGON ((68.935 -48.62500000000001, 69.58 -48...  \n",
       "Australia               (POLYGON ((145.3979781434948 -40.7925485166058...  \n",
       "Austria                 POLYGON ((16.97966678230404 48.12349701597631,...  \n",
       "Azerbaijan              (POLYGON ((45.0019873390568 39.7400035670496, ...  \n",
       "Burundi                 POLYGON ((29.33999759290035 -4.499983412294092...  \n",
       "Belgium                 POLYGON ((3.314971144228537 51.34578095153609,...  \n",
       "Benin                   POLYGON ((2.691701694356254 6.258817246928629,...  \n",
       "Burkina Faso            POLYGON ((-2.827496303712707 9.642460842319778...  \n",
       "Bangladesh              POLYGON ((92.67272098182556 22.04123891854125,...  \n",
       "Bulgaria                POLYGON ((22.65714969248299 44.23492300066128,...  \n",
       "Bahamas                 (POLYGON ((-77.53465999999997 23.7597499999999...  \n",
       "Bosnia and Herz.        POLYGON ((19.00548628101012 44.86023366960916,...  \n",
       "Belarus                 POLYGON ((23.48412763844985 53.91249766704114,...  \n",
       "Belize                  POLYGON ((-89.14308041050332 17.80831899664932...  \n",
       "Bolivia                 POLYGON ((-62.84646847192156 -22.0349854468694...  \n",
       "Brazil                  POLYGON ((-57.62513342958296 -30.2162948544542...  \n",
       "Brunei                  POLYGON ((114.2040165548284 4.525873928236805,...  \n",
       "Bhutan                  POLYGON ((91.69665652869668 27.77174184825166,...  \n",
       "Botswana                POLYGON ((25.64916344575016 -18.53602589281899...  \n",
       "Central African Rep.    POLYGON ((15.27946048346911 7.421924546737969,...  \n",
       "Canada                  (POLYGON ((-63.66449999999998 46.5500099999999...  \n",
       "Switzerland             POLYGON ((9.59422610844635 47.52505809182027, ...  \n",
       "Chile                   (POLYGON ((-68.63401022758316 -52.636370458874...  \n",
       "...                                                                   ...  \n",
       "Serbia                  POLYGON ((20.87431277841341 45.41637543393432,...  \n",
       "Suriname                POLYGON ((-57.14743648947689 5.973149929219161...  \n",
       "Slovakia                POLYGON ((18.85314415861362 49.49622976337764,...  \n",
       "Slovenia                POLYGON ((13.80647545742153 46.50930613869122,...  \n",
       "Sweden                  POLYGON ((22.18317345550193 65.72374054632017,...  \n",
       "Swaziland               POLYGON ((32.07166548028107 -26.73382008230491...  \n",
       "Syria                   POLYGON ((38.79234052913608 33.37868642835222,...  \n",
       "Chad                    POLYGON ((14.4957873877629 12.85939626713736, ...  \n",
       "Togo                    POLYGON ((1.865240512712319 6.142157701029731,...  \n",
       "Thailand                POLYGON ((102.5849324890267 12.18659495691328,...  \n",
       "Tajikistan              POLYGON ((71.01419803252017 40.24436554621823,...  \n",
       "Turkmenistan            POLYGON ((61.21081709172574 35.65007233330923,...  \n",
       "Timor-Leste             POLYGON ((124.9686824891162 -8.892790215697083...  \n",
       "Trinidad and Tobago     POLYGON ((-61.68000000000001 10.76, -61.105 10...  \n",
       "Tunisia                 POLYGON ((9.482139926805274 30.30755605724619,...  \n",
       "Turkey                  (POLYGON ((36.91312706884216 41.33535838476431...  \n",
       "Taiwan                  POLYGON ((121.7778178243899 24.3942735865194, ...  \n",
       "Tanzania                POLYGON ((33.9037111971046 -0.9499999999999886...  \n",
       "Uganda                  POLYGON ((31.86617000000007 -1.027359999999931...  \n",
       "Ukraine                 POLYGON ((31.78599816257159 52.10167796488545,...  \n",
       "Uruguay                 POLYGON ((-57.62513342958296 -30.2162948544542...  \n",
       "United States           (POLYGON ((-155.54211 19.08348000000001, -155....  \n",
       "Uzbekistan              POLYGON ((66.51860680528867 37.36278432875879,...  \n",
       "Venezuela               POLYGON ((-71.3315836249503 11.77628408451581,...  \n",
       "Vietnam                 POLYGON ((108.0501802917829 21.55237986906012,...  \n",
       "Vanuatu                 (POLYGON ((167.8448767438451 -16.4663331030971...  \n",
       "Yemen                   POLYGON ((53.10857262554751 16.65105113368895,...  \n",
       "South Africa            POLYGON ((31.52100141777888 -29.25738697684626...  \n",
       "Zambia                  POLYGON ((32.75937544122132 -9.23059905358906,...  \n",
       "Zimbabwe                POLYGON ((31.19140913262129 -22.2515096981724,...  \n",
       "\n",
       "[177 rows x 5 columns]"
      ]
     },
     "execution_count": 108,
     "metadata": {},
     "output_type": "execute_result"
    }
   ],
   "source": [
    "# Loading some example data:\n",
    "world = gpd.read_file(gpd.datasets.get_path('naturalearth_lowres'))\n",
    "\n",
    "# Set the index if you like, otherwise it will make a numeric one by default. This will be how the dataframe is sorted\n",
    "world.set_index('name')"
   ]
  },
  {
   "cell_type": "code",
   "execution_count": 105,
   "metadata": {
    "scrolled": true,
    "slideshow": {
     "slide_type": "slide"
    }
   },
   "outputs": [
    {
     "data": {
      "text/html": [
       "<div>\n",
       "<style scoped>\n",
       "    .dataframe tbody tr th:only-of-type {\n",
       "        vertical-align: middle;\n",
       "    }\n",
       "\n",
       "    .dataframe tbody tr th {\n",
       "        vertical-align: top;\n",
       "    }\n",
       "\n",
       "    .dataframe thead th {\n",
       "        text-align: right;\n",
       "    }\n",
       "</style>\n",
       "<table border=\"1\" class=\"dataframe\">\n",
       "  <thead>\n",
       "    <tr style=\"text-align: right;\">\n",
       "      <th></th>\n",
       "      <th>pop_est</th>\n",
       "      <th>continent</th>\n",
       "      <th>name</th>\n",
       "      <th>iso_a3</th>\n",
       "      <th>gdp_md_est</th>\n",
       "      <th>geometry</th>\n",
       "    </tr>\n",
       "  </thead>\n",
       "  <tbody>\n",
       "    <tr>\n",
       "      <th>0</th>\n",
       "      <td>28400000.0</td>\n",
       "      <td>Asia</td>\n",
       "      <td>Afghanistan</td>\n",
       "      <td>AFG</td>\n",
       "      <td>22270.0</td>\n",
       "      <td>POLYGON ((61.21081709172574 35.65007233330923,...</td>\n",
       "    </tr>\n",
       "    <tr>\n",
       "      <th>1</th>\n",
       "      <td>12799293.0</td>\n",
       "      <td>Africa</td>\n",
       "      <td>Angola</td>\n",
       "      <td>AGO</td>\n",
       "      <td>110300.0</td>\n",
       "      <td>(POLYGON ((16.32652835456705 -5.87747039146621...</td>\n",
       "    </tr>\n",
       "    <tr>\n",
       "      <th>2</th>\n",
       "      <td>3639453.0</td>\n",
       "      <td>Europe</td>\n",
       "      <td>Albania</td>\n",
       "      <td>ALB</td>\n",
       "      <td>21810.0</td>\n",
       "      <td>POLYGON ((20.59024743010491 41.85540416113361,...</td>\n",
       "    </tr>\n",
       "    <tr>\n",
       "      <th>3</th>\n",
       "      <td>4798491.0</td>\n",
       "      <td>Asia</td>\n",
       "      <td>United Arab Emirates</td>\n",
       "      <td>ARE</td>\n",
       "      <td>184300.0</td>\n",
       "      <td>POLYGON ((51.57951867046327 24.24549713795111,...</td>\n",
       "    </tr>\n",
       "    <tr>\n",
       "      <th>4</th>\n",
       "      <td>40913584.0</td>\n",
       "      <td>South America</td>\n",
       "      <td>Argentina</td>\n",
       "      <td>ARG</td>\n",
       "      <td>573900.0</td>\n",
       "      <td>(POLYGON ((-65.50000000000003 -55.199999999999...</td>\n",
       "    </tr>\n",
       "  </tbody>\n",
       "</table>\n",
       "</div>"
      ],
      "text/plain": [
       "      pop_est      continent                  name iso_a3  gdp_md_est  \\\n",
       "0  28400000.0           Asia           Afghanistan    AFG     22270.0   \n",
       "1  12799293.0         Africa                Angola    AGO    110300.0   \n",
       "2   3639453.0         Europe               Albania    ALB     21810.0   \n",
       "3   4798491.0           Asia  United Arab Emirates    ARE    184300.0   \n",
       "4  40913584.0  South America             Argentina    ARG    573900.0   \n",
       "\n",
       "                                            geometry  \n",
       "0  POLYGON ((61.21081709172574 35.65007233330923,...  \n",
       "1  (POLYGON ((16.32652835456705 -5.87747039146621...  \n",
       "2  POLYGON ((20.59024743010491 41.85540416113361,...  \n",
       "3  POLYGON ((51.57951867046327 24.24549713795111,...  \n",
       "4  (POLYGON ((-65.50000000000003 -55.199999999999...  "
      ]
     },
     "execution_count": 105,
     "metadata": {},
     "output_type": "execute_result"
    }
   ],
   "source": [
    "# Let's examine the top few rows\n",
    "world.head()"
   ]
  },
  {
   "cell_type": "code",
   "execution_count": 111,
   "metadata": {},
   "outputs": [
    {
     "data": {
      "text/plain": [
       "<matplotlib.axes._subplots.AxesSubplot at 0x1d293676550>"
      ]
     },
     "execution_count": 111,
     "metadata": {},
     "output_type": "execute_result"
    },
    {
     "data": {
      "image/png": "[encoded data removed]",
      "text/plain": [
       "<matplotlib.figure.Figure at 0x1d293672c88>"
      ]
     },
     "metadata": {},
     "output_type": "display_data"
    }
   ],
   "source": [
    "# Let's play with plotting the head and tail \n",
    "world.head(10).plot()\n",
    "# world.tail()\n",
    "# world.tail(5).plot()"
   ]
  },
  {
   "cell_type": "code",
   "execution_count": 112,
   "metadata": {},
   "outputs": [],
   "source": [
    "# Exercise\n",
    "\n",
    "# Set the index to a different column and see how that changes your head and tail tables and plot\n",
    "# world.head(10).plot()\n",
    "# world.tail()\n",
    "# world.tail(5).plot()"
   ]
  },
  {
   "cell_type": "code",
   "execution_count": 114,
   "metadata": {},
   "outputs": [],
   "source": [
    "# cities is another geopandas dataset. It includes points for the capitals of each country.\n",
    "cities = gpd.read_file(gpd.datasets.get_path('naturalearth_cities'))"
   ]
  },
  {
   "cell_type": "code",
   "execution_count": 115,
   "metadata": {},
   "outputs": [
    {
     "data": {
      "text/html": [
       "<div>\n",
       "<style scoped>\n",
       "    .dataframe tbody tr th:only-of-type {\n",
       "        vertical-align: middle;\n",
       "    }\n",
       "\n",
       "    .dataframe tbody tr th {\n",
       "        vertical-align: top;\n",
       "    }\n",
       "\n",
       "    .dataframe thead th {\n",
       "        text-align: right;\n",
       "    }\n",
       "</style>\n",
       "<table border=\"1\" class=\"dataframe\">\n",
       "  <thead>\n",
       "    <tr style=\"text-align: right;\">\n",
       "      <th></th>\n",
       "      <th>name</th>\n",
       "      <th>geometry</th>\n",
       "    </tr>\n",
       "  </thead>\n",
       "  <tbody>\n",
       "    <tr>\n",
       "      <th>0</th>\n",
       "      <td>Vatican City</td>\n",
       "      <td>POINT (12.45338654497177 41.90328217996012)</td>\n",
       "    </tr>\n",
       "    <tr>\n",
       "      <th>1</th>\n",
       "      <td>San Marino</td>\n",
       "      <td>POINT (12.44177015780014 43.936095834768)</td>\n",
       "    </tr>\n",
       "    <tr>\n",
       "      <th>2</th>\n",
       "      <td>Vaduz</td>\n",
       "      <td>POINT (9.516669472907267 47.13372377429357)</td>\n",
       "    </tr>\n",
       "    <tr>\n",
       "      <th>3</th>\n",
       "      <td>Luxembourg</td>\n",
       "      <td>POINT (6.130002806227083 49.61166037912108)</td>\n",
       "    </tr>\n",
       "    <tr>\n",
       "      <th>4</th>\n",
       "      <td>Palikir</td>\n",
       "      <td>POINT (158.1499743237623 6.916643696007725)</td>\n",
       "    </tr>\n",
       "  </tbody>\n",
       "</table>\n",
       "</div>"
      ],
      "text/plain": [
       "           name                                     geometry\n",
       "0  Vatican City  POINT (12.45338654497177 41.90328217996012)\n",
       "1    San Marino    POINT (12.44177015780014 43.936095834768)\n",
       "2         Vaduz  POINT (9.516669472907267 47.13372377429357)\n",
       "3    Luxembourg  POINT (6.130002806227083 49.61166037912108)\n",
       "4       Palikir  POINT (158.1499743237623 6.916643696007725)"
      ]
     },
     "execution_count": 115,
     "metadata": {},
     "output_type": "execute_result"
    }
   ],
   "source": [
    "# Again we'll look at the top few rows\n",
    "cities.head()"
   ]
  },
  {
   "cell_type": "code",
   "execution_count": 93,
   "metadata": {},
   "outputs": [
    {
     "data": {
      "text/plain": [
       "<matplotlib.axes._subplots.AxesSubplot at 0x1d290e5d588>"
      ]
     },
     "execution_count": 93,
     "metadata": {},
     "output_type": "execute_result"
    },
    {
     "data": {
      "image/png": "[encoded data removed]",
      "text/plain": [
       "<matplotlib.figure.Figure at 0x1d29305b048>"
      ]
     },
     "metadata": {},
     "output_type": "display_data"
    }
   ],
   "source": [
    "# Plot the cities using the default style\n",
    "cities.plot()"
   ]
  },
  {
   "cell_type": "code",
   "execution_count": 86,
   "metadata": {},
   "outputs": [
    {
     "data": {
      "image/png": "[encoded data removed]",
      "text/plain": [
       "<matplotlib.figure.Figure at 0x1d2911e0a90>"
      ]
     },
     "metadata": {},
     "output_type": "display_data"
    }
   ],
   "source": [
    "# Plot the cities using custom style\n",
    "cities.plot(marker='*', color='green', markersize=5);"
   ]
  },
  {
   "cell_type": "markdown",
   "metadata": {},
   "source": [
    "YOUR TURN #1: Play around with making the city dots different colors and sizes"
   ]
  },
  {
   "cell_type": "code",
   "execution_count": 18,
   "metadata": {},
   "outputs": [],
   "source": [
    "# Your code here\n",
    "\n",
    "\n"
   ]
  },
  {
   "cell_type": "code",
   "execution_count": 152,
   "metadata": {
    "slideshow": {
     "slide_type": "slide"
    }
   },
   "outputs": [],
   "source": [
    "# We can exclude Antarctica or area by name\n",
    "#world[(world.pop_est==0)]\n",
    "#world[(world.name == 'Antarctica')]\n",
    "\n",
    "world = world[(world.pop_est>0) & (world.name!=\"Antarctica\") & (world.name!=\"Fr. S. Antarctic Lands\")]"
   ]
  },
  {
   "cell_type": "code",
   "execution_count": 153,
   "metadata": {
    "slideshow": {
     "slide_type": "slide"
    }
   },
   "outputs": [],
   "source": [
    "# The data came with a gdp_per_cap column, so we can use this data to make a choropleth map!\n",
    "\n",
    "world['gdp_per_cap'] = world.gdp_md_est / world.pop_est"
   ]
  },
  {
   "cell_type": "code",
   "execution_count": 154,
   "metadata": {},
   "outputs": [
    {
     "data": {
      "text/html": [
       "<div>\n",
       "<style scoped>\n",
       "    .dataframe tbody tr th:only-of-type {\n",
       "        vertical-align: middle;\n",
       "    }\n",
       "\n",
       "    .dataframe tbody tr th {\n",
       "        vertical-align: top;\n",
       "    }\n",
       "\n",
       "    .dataframe thead th {\n",
       "        text-align: right;\n",
       "    }\n",
       "</style>\n",
       "<table border=\"1\" class=\"dataframe\">\n",
       "  <thead>\n",
       "    <tr style=\"text-align: right;\">\n",
       "      <th></th>\n",
       "      <th>pop_est</th>\n",
       "      <th>continent</th>\n",
       "      <th>name</th>\n",
       "      <th>iso_a3</th>\n",
       "      <th>gdp_md_est</th>\n",
       "      <th>geometry</th>\n",
       "      <th>gdp_per_cap</th>\n",
       "    </tr>\n",
       "  </thead>\n",
       "  <tbody>\n",
       "    <tr>\n",
       "      <th>0</th>\n",
       "      <td>28400000.0</td>\n",
       "      <td>Asia</td>\n",
       "      <td>Afghanistan</td>\n",
       "      <td>AFG</td>\n",
       "      <td>22270.0</td>\n",
       "      <td>POLYGON ((61.21081709172574 35.65007233330923,...</td>\n",
       "      <td>0.000784</td>\n",
       "    </tr>\n",
       "    <tr>\n",
       "      <th>1</th>\n",
       "      <td>12799293.0</td>\n",
       "      <td>Africa</td>\n",
       "      <td>Angola</td>\n",
       "      <td>AGO</td>\n",
       "      <td>110300.0</td>\n",
       "      <td>(POLYGON ((16.32652835456705 -5.87747039146621...</td>\n",
       "      <td>0.008618</td>\n",
       "    </tr>\n",
       "    <tr>\n",
       "      <th>2</th>\n",
       "      <td>3639453.0</td>\n",
       "      <td>Europe</td>\n",
       "      <td>Albania</td>\n",
       "      <td>ALB</td>\n",
       "      <td>21810.0</td>\n",
       "      <td>POLYGON ((20.59024743010491 41.85540416113361,...</td>\n",
       "      <td>0.005993</td>\n",
       "    </tr>\n",
       "    <tr>\n",
       "      <th>3</th>\n",
       "      <td>4798491.0</td>\n",
       "      <td>Asia</td>\n",
       "      <td>United Arab Emirates</td>\n",
       "      <td>ARE</td>\n",
       "      <td>184300.0</td>\n",
       "      <td>POLYGON ((51.57951867046327 24.24549713795111,...</td>\n",
       "      <td>0.038408</td>\n",
       "    </tr>\n",
       "    <tr>\n",
       "      <th>4</th>\n",
       "      <td>40913584.0</td>\n",
       "      <td>South America</td>\n",
       "      <td>Argentina</td>\n",
       "      <td>ARG</td>\n",
       "      <td>573900.0</td>\n",
       "      <td>(POLYGON ((-65.50000000000003 -55.199999999999...</td>\n",
       "      <td>0.014027</td>\n",
       "    </tr>\n",
       "  </tbody>\n",
       "</table>\n",
       "</div>"
      ],
      "text/plain": [
       "      pop_est      continent                  name iso_a3  gdp_md_est  \\\n",
       "0  28400000.0           Asia           Afghanistan    AFG     22270.0   \n",
       "1  12799293.0         Africa                Angola    AGO    110300.0   \n",
       "2   3639453.0         Europe               Albania    ALB     21810.0   \n",
       "3   4798491.0           Asia  United Arab Emirates    ARE    184300.0   \n",
       "4  40913584.0  South America             Argentina    ARG    573900.0   \n",
       "\n",
       "                                            geometry  gdp_per_cap  \n",
       "0  POLYGON ((61.21081709172574 35.65007233330923,...     0.000784  \n",
       "1  (POLYGON ((16.32652835456705 -5.87747039146621...     0.008618  \n",
       "2  POLYGON ((20.59024743010491 41.85540416113361,...     0.005993  \n",
       "3  POLYGON ((51.57951867046327 24.24549713795111,...     0.038408  \n",
       "4  (POLYGON ((-65.50000000000003 -55.199999999999...     0.014027  "
      ]
     },
     "execution_count": 154,
     "metadata": {},
     "output_type": "execute_result"
    }
   ],
   "source": [
    "# Let's take a look at the new column\n",
    "world.head()"
   ]
  },
  {
   "cell_type": "code",
   "execution_count": 155,
   "metadata": {},
   "outputs": [
    {
     "data": {
      "text/html": [
       "<div>\n",
       "<style scoped>\n",
       "    .dataframe tbody tr th:only-of-type {\n",
       "        vertical-align: middle;\n",
       "    }\n",
       "\n",
       "    .dataframe tbody tr th {\n",
       "        vertical-align: top;\n",
       "    }\n",
       "\n",
       "    .dataframe thead th {\n",
       "        text-align: right;\n",
       "    }\n",
       "</style>\n",
       "<table border=\"1\" class=\"dataframe\">\n",
       "  <thead>\n",
       "    <tr style=\"text-align: right;\">\n",
       "      <th></th>\n",
       "      <th>pop_est</th>\n",
       "      <th>continent</th>\n",
       "      <th>name</th>\n",
       "      <th>iso_a3</th>\n",
       "      <th>gdp_md_est</th>\n",
       "      <th>geometry</th>\n",
       "      <th>gdp_per_cap</th>\n",
       "    </tr>\n",
       "  </thead>\n",
       "  <tbody>\n",
       "    <tr>\n",
       "      <th>133</th>\n",
       "      <td>833285.0</td>\n",
       "      <td>Asia</td>\n",
       "      <td>Qatar</td>\n",
       "      <td>QAT</td>\n",
       "      <td>91330.0</td>\n",
       "      <td>POLYGON ((50.81010827006958 24.75474253997138,...</td>\n",
       "      <td>0.109602</td>\n",
       "    </tr>\n",
       "    <tr>\n",
       "      <th>97</th>\n",
       "      <td>491775.0</td>\n",
       "      <td>Europe</td>\n",
       "      <td>Luxembourg</td>\n",
       "      <td>LUX</td>\n",
       "      <td>39370.0</td>\n",
       "      <td>POLYGON ((6.043073357781111 50.12805166279423,...</td>\n",
       "      <td>0.080057</td>\n",
       "    </tr>\n",
       "    <tr>\n",
       "      <th>118</th>\n",
       "      <td>4676305.0</td>\n",
       "      <td>Europe</td>\n",
       "      <td>Norway</td>\n",
       "      <td>NOR</td>\n",
       "      <td>276400.0</td>\n",
       "      <td>(POLYGON ((28.16554731620292 71.18547435168051...</td>\n",
       "      <td>0.059106</td>\n",
       "    </tr>\n",
       "    <tr>\n",
       "      <th>89</th>\n",
       "      <td>2691158.0</td>\n",
       "      <td>Asia</td>\n",
       "      <td>Kuwait</td>\n",
       "      <td>KWT</td>\n",
       "      <td>149100.0</td>\n",
       "      <td>POLYGON ((47.9745190773499 29.9758192001485, 4...</td>\n",
       "      <td>0.055404</td>\n",
       "    </tr>\n",
       "    <tr>\n",
       "      <th>23</th>\n",
       "      <td>388190.0</td>\n",
       "      <td>Asia</td>\n",
       "      <td>Brunei</td>\n",
       "      <td>BRN</td>\n",
       "      <td>20250.0</td>\n",
       "      <td>POLYGON ((114.2040165548284 4.525873928236805,...</td>\n",
       "      <td>0.052165</td>\n",
       "    </tr>\n",
       "  </tbody>\n",
       "</table>\n",
       "</div>"
      ],
      "text/plain": [
       "       pop_est continent        name iso_a3  gdp_md_est  \\\n",
       "133   833285.0      Asia       Qatar    QAT     91330.0   \n",
       "97    491775.0    Europe  Luxembourg    LUX     39370.0   \n",
       "118  4676305.0    Europe      Norway    NOR    276400.0   \n",
       "89   2691158.0      Asia      Kuwait    KWT    149100.0   \n",
       "23    388190.0      Asia      Brunei    BRN     20250.0   \n",
       "\n",
       "                                              geometry  gdp_per_cap  \n",
       "133  POLYGON ((50.81010827006958 24.75474253997138,...     0.109602  \n",
       "97   POLYGON ((6.043073357781111 50.12805166279423,...     0.080057  \n",
       "118  (POLYGON ((28.16554731620292 71.18547435168051...     0.059106  \n",
       "89   POLYGON ((47.9745190773499 29.9758192001485, 4...     0.055404  \n",
       "23   POLYGON ((114.2040165548284 4.525873928236805,...     0.052165  "
      ]
     },
     "execution_count": 155,
     "metadata": {},
     "output_type": "execute_result"
    }
   ],
   "source": [
    "# What are the 5 countries with the highest GDP?\n",
    "world.sort_values('gdp_per_cap', ascending = False).head()"
   ]
  },
  {
   "cell_type": "code",
   "execution_count": 156,
   "metadata": {
    "slideshow": {
     "slide_type": "slide"
    }
   },
   "outputs": [
    {
     "data": {
      "image/png": "[encoded data removed]",
      "text/plain": [
       "<matplotlib.figure.Figure at 0x1d293633f98>"
      ]
     },
     "metadata": {},
     "output_type": "display_data"
    }
   ],
   "source": [
    "# And plot...\n",
    "world.plot(column='gdp_per_cap');"
   ]
  },
  {
   "cell_type": "code",
   "execution_count": 166,
   "metadata": {
    "slideshow": {
     "slide_type": "slide"
    }
   },
   "outputs": [
    {
     "data": {
      "image/png": "[encoded data removed]",
      "text/plain": [
       "<matplotlib.figure.Figure at 0x1d29394dcf8>"
      ]
     },
     "metadata": {},
     "output_type": "display_data"
    }
   ],
   "source": [
    "# We can change the style using the cmap (short for color map) property\n",
    "world.plot(column='gdp_per_cap', cmap='OrRd');\n",
    "\n",
    "# Try setting the cmap property to YlGn\n",
    "# Look into other color options"
   ]
  },
  {
   "cell_type": "code",
   "execution_count": 167,
   "metadata": {
    "slideshow": {
     "slide_type": "slide"
    }
   },
   "outputs": [
    {
     "data": {
      "image/png": "[encoded data removed]",
      "text/plain": [
       "<matplotlib.figure.Figure at 0x1d293976860>"
      ]
     },
     "metadata": {},
     "output_type": "display_data"
    }
   ],
   "source": [
    "# You can change the default classification scheme\n",
    "base = world.plot(column='gdp_per_cap', cmap='OrRd', scheme='quantiles');"
   ]
  },
  {
   "cell_type": "markdown",
   "metadata": {},
   "source": [
    "YOUR TURN #2: The scheme option can be set to 'equal_interval', 'quantiles', or 'fisher_jenks'. \n",
    "Try out each one. See the difference?\n",
    "\n",
    "More info on classification schemes: http://pysal.readthedocs.io/en/latest/library/esda/mapclassify.html"
   ]
  },
  {
   "cell_type": "code",
   "execution_count": 24,
   "metadata": {},
   "outputs": [],
   "source": [
    "# Your code here\n",
    "\n",
    "\n"
   ]
  },
  {
   "cell_type": "code",
   "execution_count": 169,
   "metadata": {},
   "outputs": [
    {
     "data": {
      "image/png": "[encoded data removed]",
      "text/plain": [
       "<matplotlib.figure.Figure at 0x1d293ad5a20>"
      ]
     },
     "metadata": {},
     "output_type": "display_data"
    }
   ],
   "source": [
    "# We can plot the cities on top of our new chropleth map\n",
    "\n",
    "# Create a variable to hold our choropleth map, call it base\n",
    "base = world.plot(column='gdp_per_cap', cmap='OrRd', scheme='quantiles');\n",
    "\n",
    "# Now when you plot the cities, set an ax property to the variable you just created\n",
    "cities.plot(ax=base, marker='o', color='blue', markersize=5);\n",
    "\n",
    "# Now you will get them both on the same map"
   ]
  },
  {
   "cell_type": "markdown",
   "metadata": {},
   "source": [
    "Geopandas is geo-enabled [Pandas](https://pandas.pydata.org/), a Python data science library, so we have everything that comes with Pandas already!"
   ]
  },
  {
   "cell_type": "code",
   "execution_count": 177,
   "metadata": {},
   "outputs": [],
   "source": [
    "# Add stuff about pandas, make some charts based on GDP\n"
   ]
  },
  {
   "cell_type": "markdown",
   "metadata": {},
   "source": [
    "# Managing Projections"
   ]
  },
  {
   "cell_type": "markdown",
   "metadata": {},
   "source": [
    "Source: http://geopandas.org/projections.html\n",
    "\n",
    "We saw before how we can set a projection. We can also check a projection and re-project."
   ]
  },
  {
   "cell_type": "code",
   "execution_count": 178,
   "metadata": {},
   "outputs": [
    {
     "data": {
      "text/plain": [
       "{'init': 'epsg:4326'}"
      ]
     },
     "execution_count": 178,
     "metadata": {},
     "output_type": "execute_result"
    }
   ],
   "source": [
    "# Check original projection\n",
    "# (it's Platte Carre! x-y are long and lat)\n",
    "world.crs"
   ]
  },
  {
   "cell_type": "code",
   "execution_count": 179,
   "metadata": {},
   "outputs": [
    {
     "data": {
      "image/png": "[encoded data removed]",
      "text/plain": [
       "<matplotlib.figure.Figure at 0x1d293b9bf60>"
      ]
     },
     "metadata": {},
     "output_type": "display_data"
    }
   ],
   "source": [
    "ax = world.plot()\n",
    "ax.set_title(\"WGS84 (lat/lon)\");"
   ]
  },
  {
   "cell_type": "code",
   "execution_count": 181,
   "metadata": {},
   "outputs": [],
   "source": [
    "#Set the projection to be the same as another dataset\n",
    "world = world[(world.name != \"Antarctica\") & (world.name != \"Fr. S. Antarctic Lands\")]\n",
    "world = world.to_crs(epsg=3395)"
   ]
  },
  {
   "cell_type": "code",
   "execution_count": 182,
   "metadata": {},
   "outputs": [
    {
     "data": {
      "image/png": "[encoded data removed]",
      "text/plain": [
       "<matplotlib.figure.Figure at 0x1d293c14be0>"
      ]
     },
     "metadata": {},
     "output_type": "display_data"
    }
   ],
   "source": [
    "ax = world.plot()\n",
    "ax.set_title(\"Mercator\");"
   ]
  },
  {
   "cell_type": "markdown",
   "metadata": {},
   "source": [
    "YOUR TURN #3: Now reproject `cities` to the Mercator projection. Can you plot both the world and cities in the same map in the Mercator projection?"
   ]
  },
  {
   "cell_type": "code",
   "execution_count": 31,
   "metadata": {},
   "outputs": [],
   "source": [
    "# Your code here\n"
   ]
  }
 ],
 "metadata": {
  "kernelspec": {
   "display_name": "Python 3",
   "language": "python",
   "name": "python3"
  },
  "language_info": {
   "codemirror_mode": {
    "name": "ipython",
    "version": 3
   },
   "file_extension": ".py",
   "mimetype": "text/x-python",
   "name": "python",
   "nbconvert_exporter": "python",
   "pygments_lexer": "ipython3",
   "version": "3.6.5"
  }
 },
 "nbformat": 4,
 "nbformat_minor": 2
}
